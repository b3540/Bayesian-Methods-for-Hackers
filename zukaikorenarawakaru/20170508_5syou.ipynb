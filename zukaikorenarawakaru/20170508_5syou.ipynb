{
 "cells": [
  {
   "cell_type": "markdown",
   "metadata": {
    "nbpresent": {
     "id": "7c1382d1-3ea8-483f-b455-c784513f7482"
    },
    "slideshow": {
     "slide_type": "slide"
    }
   },
   "source": [
    "<div style=\"font-size:30pt\">\n",
    "<br>\n",
    "５章　ベイズ統計学のための準備 <br>    \n",
    "<br>\n",
    "</div>"
   ]
  },
  {
   "cell_type": "markdown",
   "metadata": {
    "toc": "true"
   },
   "source": [
    "# Table of Contents\n",
    " <p><div class=\"lev1 toc-item\"><a href=\"#確率変数と確率分布は統計モデルの柱\" data-toc-modified-id=\"確率変数と確率分布は統計モデルの柱-1\"><span class=\"toc-item-num\">1&nbsp;&nbsp;</span>確率変数と確率分布は統計モデルの柱</a></div><div class=\"lev2 toc-item\"><a href=\"#離散の場合-(176~177頁)\" data-toc-modified-id=\"離散の場合-(176~177頁)-11\"><span class=\"toc-item-num\">1.1&nbsp;&nbsp;</span>離散の場合 (176~177頁)</a></div><div class=\"lev2 toc-item\"><a href=\"#連続的な確率変数と確率密度関数(177~179頁)\" data-toc-modified-id=\"連続的な確率変数と確率密度関数(177~179頁)-12\"><span class=\"toc-item-num\">1.2&nbsp;&nbsp;</span>連続的な確率変数と確率密度関数(177~179頁)</a></div><div class=\"lev3 toc-item\"><a href=\"#連続的な確率変数の時の平均値と分散(179頁)\" data-toc-modified-id=\"連続的な確率変数の時の平均値と分散(179頁)-121\"><span class=\"toc-item-num\">1.2.1&nbsp;&nbsp;</span>連続的な確率変数の時の平均値と分散(179頁)</a></div><div class=\"lev1 toc-item\"><a href=\"#一様分布(180~181頁)\" data-toc-modified-id=\"一様分布(180~181頁)-2\"><span class=\"toc-item-num\">2&nbsp;&nbsp;</span>一様分布(180~181頁)</a></div><div class=\"lev2 toc-item\"><a href=\"#一様分布とは\" data-toc-modified-id=\"一様分布とは-21\"><span class=\"toc-item-num\">2.1&nbsp;&nbsp;</span>一様分布とは</a></div><div class=\"lev2 toc-item\"><a href=\"#連続型の一様分布の確率密度関数、平均値、分散\" data-toc-modified-id=\"連続型の一様分布の確率密度関数、平均値、分散-22\"><span class=\"toc-item-num\">2.2&nbsp;&nbsp;</span>連続型の一様分布の確率密度関数、平均値、分散</a></div><div class=\"lev2 toc-item\"><a href=\"#連続型一様分布を実感する\" data-toc-modified-id=\"連続型一様分布を実感する-23\"><span class=\"toc-item-num\">2.3&nbsp;&nbsp;</span>連続型一様分布を実感する</a></div><div class=\"lev1 toc-item\"><a href=\"#ベルヌーイ分布(182~183頁)\" data-toc-modified-id=\"ベルヌーイ分布(182~183頁)-3\"><span class=\"toc-item-num\">3&nbsp;&nbsp;</span>ベルヌーイ分布(182~183頁)</a></div><div class=\"lev2 toc-item\"><a href=\"#ベルヌーイ分布とは\" data-toc-modified-id=\"ベルヌーイ分布とは-31\"><span class=\"toc-item-num\">3.1&nbsp;&nbsp;</span>ベルヌーイ分布とは</a></div><div class=\"lev2 toc-item\"><a href=\"#ベルヌーイ分布の確率密度関数、平均値、分散\" data-toc-modified-id=\"ベルヌーイ分布の確率密度関数、平均値、分散-32\"><span class=\"toc-item-num\">3.2&nbsp;&nbsp;</span>ベルヌーイ分布の確率密度関数、平均値、分散</a></div><div class=\"lev2 toc-item\"><a href=\"#ベルヌーイ分布を実感する\" data-toc-modified-id=\"ベルヌーイ分布を実感する-33\"><span class=\"toc-item-num\">3.3&nbsp;&nbsp;</span>ベルヌーイ分布を実感する</a></div><div class=\"lev1 toc-item\"><a href=\"#正規分布(184~185頁)\" data-toc-modified-id=\"正規分布(184~185頁)-4\"><span class=\"toc-item-num\">4&nbsp;&nbsp;</span>正規分布(184~185頁)</a></div><div class=\"lev2 toc-item\"><a href=\"#正規分布とは\" data-toc-modified-id=\"正規分布とは-41\"><span class=\"toc-item-num\">4.1&nbsp;&nbsp;</span>正規分布とは</a></div><div class=\"lev2 toc-item\"><a href=\"#正規分布を実感する\" data-toc-modified-id=\"正規分布を実感する-42\"><span class=\"toc-item-num\">4.2&nbsp;&nbsp;</span>正規分布を実感する</a></div><div class=\"lev2 toc-item\"><a href=\"#中心極限定理\" data-toc-modified-id=\"中心極限定理-43\"><span class=\"toc-item-num\">4.3&nbsp;&nbsp;</span>中心極限定理</a></div><div class=\"lev1 toc-item\"><a href=\"#ベータ分布\" data-toc-modified-id=\"ベータ分布-5\"><span class=\"toc-item-num\">5&nbsp;&nbsp;</span>ベータ分布</a></div><div class=\"lev2 toc-item\"><a href=\"#ベータ分布とは\" data-toc-modified-id=\"ベータ分布とは-51\"><span class=\"toc-item-num\">5.1&nbsp;&nbsp;</span>ベータ分布とは</a></div><div class=\"lev2 toc-item\"><a href=\"#ベータ分布を実感する\" data-toc-modified-id=\"ベータ分布を実感する-52\"><span class=\"toc-item-num\">5.2&nbsp;&nbsp;</span>ベータ分布を実感する</a></div><div class=\"lev1 toc-item\"><a href=\"#確率分布の母数\" data-toc-modified-id=\"確率分布の母数-6\"><span class=\"toc-item-num\">6&nbsp;&nbsp;</span>確率分布の母数</a></div>"
   ]
  },
  {
   "cell_type": "markdown",
   "metadata": {
    "nbpresent": {
     "id": "e2df3af4-ca3c-467a-9723-ddffa72db4b3"
    },
    "slideshow": {
     "slide_type": "slide"
    }
   },
   "source": [
    "#  確率変数と確率分布は統計モデルの柱\n",
    "## 離散の場合 (176~177頁)\n",
    "\n",
    "確率変数と確率分布の例\n",
    "- 確率変数　→　サイコロの目\n",
    "- 確率　→　サイコロの目が出る確率\n",
    "- $\\sum_i^n p_i  = p_1 + p_2 + … + p_n = 1$\n",
    "\n",
    "***\n",
    "\n",
    "- 平均値：μ = E(x) = $\\sum_i x_i p_i$\n",
    "- 分散：　$σ^2 = V(X) = \\sum_i (x_i - μ）^2 p_i$\n",
    "- 標準偏差 ： σ = $\\sqrt {σ^2}$"
   ]
  },
  {
   "cell_type": "markdown",
   "metadata": {},
   "source": [
    "***"
   ]
  },
  {
   "cell_type": "markdown",
   "metadata": {
    "nbpresent": {
     "id": "44df3ea8-e6e8-4cee-af5f-8f12ddc09917"
    }
   },
   "source": [
    "## 連続的な確率変数と確率密度関数(177~179頁)\n",
    "連続的な確率変数の分布の例\n",
    "- 平均0、分散1の正規分布"
   ]
  },
  {
   "cell_type": "code",
   "execution_count": 2,
   "metadata": {
    "collapsed": false,
    "nbpresent": {
     "id": "3588e182-076d-4a0c-ac33-5e262c52f3c1"
    },
    "slideshow": {
     "slide_type": "skip"
    }
   },
   "outputs": [],
   "source": [
    "import matplotlib as mpl\n",
    "import matplotlib.pyplot as plt\n",
    "import seaborn as sns\n",
    "%matplotlib inline\n",
    "import numpy as np\n",
    "import scipy\n",
    "# from scipy.stats import norm\n",
    "plt.rcParams['font.family'] = 'IPAPGothic'"
   ]
  },
  {
   "cell_type": "code",
   "execution_count": 5,
   "metadata": {
    "collapsed": false,
    "nbpresent": {
     "id": "9e7fed7b-2340-44a1-8654-0fb63cf7f79c"
    },
    "slideshow": {
     "slide_type": "skip"
    }
   },
   "outputs": [
    {
     "data": {
      "text/plain": [
       "<matplotlib.text.Text at 0x113ab87f0>"
      ]
     },
     "execution_count": 5,
     "metadata": {},
     "output_type": "execute_result"
    },
    {
     "data": {
      "image/png": "[encoded data removed]",
      "text/plain": [
       "<matplotlib.figure.Figure at 0x111295b00>"
      ]
     },
     "metadata": {},
     "output_type": "display_data"
    }
   ],
   "source": [
    "n = np.linspace(-3,3, 10000)\n",
    "\n",
    "# 平均0, 標準偏差1の正規分布における、xの確率を求める\n",
    "p = []\n",
    "for i in range(len(n)):\n",
    "    p.append(norm.pdf(x=n[i], loc=0, scale=1))\n",
    "\n",
    "# 乱数－確率 の特性を散布図で表し、標準正規分布のグラフを作成\n",
    "plt.scatter(n, p)\n",
    "#plt.ylim(0,0.05)\n",
    "plt.title(\"平均0,分散1の正規分布\")\n",
    "    "
   ]
  },
  {
   "cell_type": "markdown",
   "metadata": {
    "nbpresent": {
     "id": "0583d3fb-62f8-46f0-a710-0bd802b183de"
    }
   },
   "source": [
    "- 全体の面積は１　（P（X）=$\\int_{-\\infty}^\\infty$f(x)dx=1）"
   ]
  },
  {
   "cell_type": "markdown",
   "metadata": {
    "nbpresent": {
     "id": "69852cd7-9e7e-4cab-a60a-d63d1adbe60b"
    }
   },
   "source": [
    "***\n",
    "\n",
    "### 連続的な確率変数の時の平均値と分散(179頁)\n",
    "- 平均値　： μ= E(x) = $\\int_a^b xf(x)dx$\n",
    "- 分散　：　$σ^2 =V(x)= \\int_a^b (x-μ)^2 f(x)dx$\n",
    "- 標準偏差 :   σ = $ \\sqrt {σ^2}$\n",
    "\n",
    "積分範囲a,bは確率密度関数が定義されている全範囲"
   ]
  },
  {
   "cell_type": "markdown",
   "metadata": {},
   "source": [
    "***"
   ]
  },
  {
   "cell_type": "markdown",
   "metadata": {
    "nbpresent": {
     "id": "b3210d49-f61a-4827-bf8e-17d3da3952b2"
    }
   },
   "source": [
    "# 一様分布(180~181頁)"
   ]
  },
  {
   "cell_type": "markdown",
   "metadata": {},
   "source": [
    "## 一様分布とは\n",
    "確率変数xのどの値に対しても、それが起こる確率値が同じである確率分布  \n",
    "- 離散型の一様分布\n",
    "    - サイコロ\n",
    "- 連続型の一様分布\n",
    "    - 円板上で針を回す時、その針先の止まる角度の分布\n",
    "    \n",
    "***\n",
    "\n",
    "## 連続型の一様分布の確率密度関数、平均値、分散\n",
    "- 確率密度関数 $f(x)=\\dfrac{1}{b-a}$\n",
    "- 平均値 μ=$\\dfrac{a+b}{2}$\n",
    "- 分散 $σ^2 = \\dfrac{(a-b)^2}{12}$\n",
    "\n",
    "***\n",
    "\n",
    "## 連続型一様分布を実感する"
   ]
  },
  {
   "cell_type": "code",
   "execution_count": 11,
   "metadata": {
    "collapsed": false,
    "nbpresent": {
     "id": "dceda4aa-6ee1-4cf7-a965-a097914b169a"
    }
   },
   "outputs": [
    {
     "name": "stdout",
     "output_type": "stream",
     "text": [
      "確率密度関数 :f(x) = 1/360   (0<x<360)\n",
      "平均値：μ=180.0\n",
      "分散:σ^2 = 10800.0\n"
     ]
    },
    {
     "data": {
      "image/png": "[encoded data removed]",
      "text/plain": [
       "<matplotlib.figure.Figure at 0x113b8c7f0>"
      ]
     },
     "metadata": {},
     "output_type": "display_data"
    }
   ],
   "source": [
    "## aとbを好きな数を入力。すると、aからbまでの一様分布を描きます。(a<bにしてください)\n",
    "a = 0\n",
    "b =  360\n",
    "\n",
    "\n",
    "## 以下は描画用のコード\n",
    "x = np.arange(a,b,0.01)\n",
    "y = np.tile([1/(b-a)],int((b-a)/0.01))\n",
    "ichiyou_title= '区間{0}から{1}までの一様分布'.format(a,b)\n",
    "c = (b-a)/30\n",
    "\n",
    "plt.plot(x,y,color=\"r\")\n",
    "plt.xlim(a-c,b+c)\n",
    "plt.title(ichiyou_title)\n",
    "\n",
    "\n",
    "print('確率密度関数 :f(x) = 1/{0}   ({1}<x<{2})'.format(b-a,a,b))\n",
    "print('平均値：μ={0}'.format((a+b)/2))\n",
    "print('分散:σ^2 = {0}'.format(((a-b)**2)/12))"
   ]
  },
  {
   "cell_type": "markdown",
   "metadata": {},
   "source": [
    "***"
   ]
  },
  {
   "cell_type": "markdown",
   "metadata": {
    "nbpresent": {
     "id": "91eff431-07ef-4b4c-8abf-3ef2980e746a"
    }
   },
   "source": [
    " # ベルヌーイ分布(182~183頁)\n",
    " \n",
    " ## ベルヌーイ分布とは\n",
    " コインの表裏のように事象が２種しかない思考をベルヌーイ試行という  \n",
    " このベルヌーイ試行の結果を数学的にモデル化したものがベルヌーイ分布  \n",
    " ベルヌーイ分布は離散型の確率分布\n",
    " \n",
    "|X|0|1|\n",
    "|:---:|:---:|:---:|\n",
    "|確率|1-p|p|\n",
    "\n",
    "***\n",
    "\n",
    "## ベルヌーイ分布の確率密度関数、平均値、分散\n",
    "- 確率密度関数 $f(x)=\\dfrac{1}{b-a}$\n",
    "- 平均値 μ=$\\dfrac{a+b}{2}$\n",
    "- 分散 $σ^2 = \\dfrac{(a-b)^2}{12}$\n",
    "\n",
    "***\n",
    "\n",
    "## ベルヌーイ分布を実感する"
   ]
  },
  {
   "cell_type": "code",
   "execution_count": 9,
   "metadata": {
    "collapsed": false,
    "nbpresent": {
     "id": "d507339b-ea36-4c58-a827-49d3bdd18f04"
    }
   },
   "outputs": [
    {
     "name": "stdout",
     "output_type": "stream",
     "text": [
      "平均値：μ=0.16666666666666666\n",
      "分散:σ^2 = 0.1388888888888889\n"
     ]
    },
    {
     "data": {
      "text/plain": [
       "<matplotlib.text.Text at 0x113b98cc0>"
      ]
     },
     "execution_count": 9,
     "metadata": {},
     "output_type": "execute_result"
    },
    {
     "data": {
      "image/png": "[encoded data removed]",
      "text/plain": [
       "<matplotlib.figure.Figure at 0x1141ff4a8>"
      ]
     },
     "metadata": {},
     "output_type": "display_data"
    }
   ],
   "source": [
    "p = 1/6\n",
    "\n",
    "ber_title= 'p={0}のベルヌーイ分布'.format(p)\n",
    "\n",
    "print('平均値：μ={0}'.format(p))\n",
    "print('分散:σ^2 = {0}'.format(p*(1-p)))\n",
    "\n",
    "plt.bar((-0.05,0.95),(1-p,p),width=0.1,color=\"indianred\")\n",
    "plt.ylim(0,1.1)\n",
    "plt.xlim(-0.2,1.2)\n",
    "plt.title(ber_title)"
   ]
  },
  {
   "cell_type": "markdown",
   "metadata": {
    "nbpresent": {
     "id": "c39943f7-13ac-43f9-a196-ee575954cf9a"
    }
   },
   "source": [
    "***\n",
    "\n",
    "# 正規分布(184~185頁)\n",
    "\n",
    "## 正規分布とは\n",
    "最も多様される確率分布\n",
    "\n",
    "- 確率密度関数 f(x) = $\\frac{1}{\\sqrt{2π}σ}e^{-\\frac{(x-μ)^2}{2σ^2}}$\n",
    "- 平均：μ\n",
    "- 分散：$σ^2$\n",
    "\n",
    "平均値μ、分散σの正規分布をN（μ,$σ^2$）で表す\n",
    "\n",
    "## 正規分布を実感する"
   ]
  },
  {
   "cell_type": "code",
   "execution_count": 12,
   "metadata": {
    "collapsed": false,
    "nbpresent": {
     "id": "190d8119-4bc3-4a3c-8b71-3f177bcf36b3"
    }
   },
   "outputs": [
    {
     "data": {
      "text/plain": [
       "(0, 0.049894228040143276)"
      ]
     },
     "execution_count": 12,
     "metadata": {},
     "output_type": "execute_result"
    },
    {
     "data": {
      "image/png": "[encoded data removed]",
      "text/plain": [
       "<matplotlib.figure.Figure at 0x11432dc88>"
      ]
     },
     "metadata": {},
     "output_type": "display_data"
    }
   ],
   "source": [
    "μ= 50\n",
    "σ=10\n",
    "\n",
    "y = lambda y : np.exp((-(y-μ)**2)/(2*σ**2))/(σ*np.sqrt(2*np.pi))\n",
    "\n",
    "xvar = np.arange(20,80,0.01)\n",
    "yvar = y(xvar)\n",
    "plt.plot(xvar,yvar,color=\"r\")\n",
    "\n",
    "nor_title= 'μ={0},σ={1}の正規分布'.format(μ,σ)\n",
    "plt.title(nor_title)\n",
    "plt.ylim(0,max(yvar)+0.01)          \n",
    "\n"
   ]
  },
  {
   "cell_type": "markdown",
   "metadata": {
    "collapsed": true
   },
   "source": [
    "## 中心極限定理"
   ]
  },
  {
   "cell_type": "markdown",
   "metadata": {
    "collapsed": true
   },
   "source": [
    "<div style=\"font-size:20pt\">\n",
    "\n",
    "「中心極限定理の大まかな意味」  \n",
    "平均μ、分散$σ^2$をもつ同一の確率分布に従う  \n",
    "母集団から  無作為抽出によって得られるn個  \n",
    "の標本の平均$\\bar {X_n}$の分布は、  n が大きいとき  \n",
    "平均μ，分散 $σ^2$の正規分布に近づく。\n",
    "\n",
    "</div>\n",
    "\n",
    "- 任意の分布で成立するわけではない\n",
    "- しかし、平均、分散が定まる確率分布であれば成立\n",
    "- 多くの分布を正規分布と関連づけられるため非常に強力な定理\n",
    "\n",
    "→　説明はホワイトボード、別ファイルで"
   ]
  },
  {
   "cell_type": "markdown",
   "metadata": {
    "collapsed": true
   },
   "source": [
    "***\n",
    "\n",
    "# ベータ分布\n",
    "\n",
    "## ベータ分布とは\n",
    "- 確率密度関数$f(x) = k x^{p-1}(1-x)^{q-1}$　kは定数、p,qは正の定数 0<x<1\n",
    "    - k= $\\dfrac{1}{B(p,q)}$   =$\\dfrac{Γ(p+q)}{Γ(p)Γ(q)}$　　　　(pとqが自然数なら  = $\\dfrac{(p+q-1)!}{(p-1)!(q-1)!}$)\n",
    "- 平均値：$\\dfrac{p}{p+q}$\n",
    "- 分散：$\\dfrac{pq}{(p+q)^2(p+q+1)}$"
   ]
  },
  {
   "cell_type": "markdown",
   "metadata": {},
   "source": [
    "\n",
    "--- \n",
    "## ベータ分布を実感する"
   ]
  },
  {
   "cell_type": "code",
   "execution_count": 13,
   "metadata": {
    "collapsed": false,
    "scrolled": true
   },
   "outputs": [
    {
     "data": {
      "image/png": "[encoded data removed]",
      "text/plain": [
       "<matplotlib.figure.Figure at 0x114021978>"
      ]
     },
     "metadata": {},
     "output_type": "display_data"
    }
   ],
   "source": [
    "p=4\n",
    "q=2\n",
    "\n",
    "x = np.linspace(0,1,1000)\n",
    "rv = scipy.stats.beta(p,q)\n",
    "y = rv.pdf(x)\n",
    "plt.plot(x,y,color=\"r\")\n",
    "\n",
    "beta_title= 'p={0},q={1}のベータ分布'.format(p,q)\n",
    "plt.title(beta_title)\n",
    "\n",
    "μ= p/(p+q)\n",
    "var = p*q/(((p+q)**2)*(p+q+1))"
   ]
  },
  {
   "cell_type": "markdown",
   "metadata": {},
   "source": [
    "# 確率分布の母数\n",
    "\n",
    "- 確率分布を規定する定数のことを母数と呼ぶ\n",
    "    - パラメータと呼ぶこともある\n",
    "- ベイズ統計学では、この母数を確率変数として扱う\n",
    "\n",
    "- 正規分布の母数\n",
    "    - 平均値μ、分散$σ^2$\n",
    "- ベルヌーイ分布の母数\n",
    "    - 確率p"
   ]
  }
 ],
 "metadata": {
  "anaconda-cloud": {},
  "kernelspec": {
   "display_name": "Python [Root]",
   "language": "python",
   "name": "Python [Root]"
  },
  "language_info": {
   "codemirror_mode": {
    "name": "ipython",
    "version": 3
   },
   "file_extension": ".py",
   "mimetype": "text/x-python",
   "name": "python",
   "nbconvert_exporter": "python",
   "pygments_lexer": "ipython3",
   "version": "3.5.2"
  },
  "nbpresent": {
   "slides": {
    "2053d6bc-c23a-43bf-b306-77d79b5b8af0": {
     "id": "2053d6bc-c23a-43bf-b306-77d79b5b8af0",
     "prev": "6adee465-ca94-4eae-befd-3b0526b33d90",
     "regions": {
      "0a548312-49ae-4e87-b719-9a7f73725ec7": {
       "attrs": {
        "height": 0.8,
        "width": 0.8,
        "x": 0.1,
        "y": 0.1
       },
       "content": {
        "cell": "3588e182-076d-4a0c-ac33-5e262c52f3c1",
        "part": "whole"
       },
       "id": "0a548312-49ae-4e87-b719-9a7f73725ec7"
      }
     }
    },
    "274c5a08-2792-4aa7-a95c-f549ec2c97ba": {
     "id": "274c5a08-2792-4aa7-a95c-f549ec2c97ba",
     "prev": "f9682044-789b-4fb6-8904-46466f8d9232",
     "regions": {
      "6e4cc067-bd04-4aa8-869d-7643db822b86": {
       "attrs": {
        "height": 0.8,
        "width": 0.8,
        "x": 0.1,
        "y": 0.1
       },
       "content": {
        "cell": "9be6608f-d0c2-4783-94a3-0c88613925a2",
        "part": "whole"
       },
       "id": "6e4cc067-bd04-4aa8-869d-7643db822b86"
      }
     }
    },
    "476df91f-7ca0-49db-9ddf-81df14281c59": {
     "id": "476df91f-7ca0-49db-9ddf-81df14281c59",
     "prev": "4b8e511b-6a09-4993-80a8-f5f229fe34e1",
     "regions": {
      "34535ca8-88d1-4a24-8de7-5afefa8c5fe5": {
       "attrs": {
        "height": 0.8,
        "width": 0.8,
        "x": 0.1,
        "y": 0.1
       },
       "content": {
        "cell": "d507339b-ea36-4c58-a827-49d3bdd18f04",
        "part": "whole"
       },
       "id": "34535ca8-88d1-4a24-8de7-5afefa8c5fe5"
      }
     }
    },
    "47e4c9ce-60d6-46bc-b36a-dead18d50a72": {
     "id": "47e4c9ce-60d6-46bc-b36a-dead18d50a72",
     "prev": "7596b8bf-f8a7-4d64-9d78-50dd4ab5ad3a",
     "regions": {
      "25a6ec8c-6502-436e-8b98-11518c0d4373": {
       "attrs": {
        "height": 0.8,
        "width": 0.8,
        "x": 0.1,
        "y": 0.1
       },
       "content": {
        "cell": "190d8119-4bc3-4a3c-8b71-3f177bcf36b3",
        "part": "whole"
       },
       "id": "25a6ec8c-6502-436e-8b98-11518c0d4373"
      }
     }
    },
    "4b8e511b-6a09-4993-80a8-f5f229fe34e1": {
     "id": "4b8e511b-6a09-4993-80a8-f5f229fe34e1",
     "prev": "dd8198ed-2071-4ce9-8924-5f2e4ffe766a",
     "regions": {
      "abf4e6c7-55b9-43bb-96d9-c941408af5e9": {
       "attrs": {
        "height": 0.8,
        "width": 0.8,
        "x": 0.1,
        "y": 0.1
       },
       "content": {
        "cell": "91eff431-07ef-4b4c-8abf-3ef2980e746a",
        "part": "whole"
       },
       "id": "abf4e6c7-55b9-43bb-96d9-c941408af5e9"
      }
     }
    },
    "6adee465-ca94-4eae-befd-3b0526b33d90": {
     "id": "6adee465-ca94-4eae-befd-3b0526b33d90",
     "prev": "b927605e-26d2-4c13-bffb-8bcbd48a881a",
     "regions": {
      "5b4d5d45-4618-4a99-aeab-bb8881c5d356": {
       "attrs": {
        "height": 0.8,
        "width": 0.8,
        "x": 0.1,
        "y": 0.1
       },
       "content": {
        "cell": "44df3ea8-e6e8-4cee-af5f-8f12ddc09917",
        "part": "whole"
       },
       "id": "5b4d5d45-4618-4a99-aeab-bb8881c5d356"
      }
     }
    },
    "7596b8bf-f8a7-4d64-9d78-50dd4ab5ad3a": {
     "id": "7596b8bf-f8a7-4d64-9d78-50dd4ab5ad3a",
     "prev": "476df91f-7ca0-49db-9ddf-81df14281c59",
     "regions": {
      "645e8cdf-a823-49d6-b878-064a6fac0ab5": {
       "attrs": {
        "height": 0.8,
        "width": 0.8,
        "x": 0.1,
        "y": 0.1
       },
       "content": {
        "cell": "c39943f7-13ac-43f9-a196-ee575954cf9a",
        "part": "whole"
       },
       "id": "645e8cdf-a823-49d6-b878-064a6fac0ab5"
      }
     }
    },
    "933d624c-4ba7-4014-b16f-c52997b436da": {
     "id": "933d624c-4ba7-4014-b16f-c52997b436da",
     "prev": "47e4c9ce-60d6-46bc-b36a-dead18d50a72",
     "regions": {
      "c0f3f8ef-9c6e-4d1c-950c-217f823d82d6": {
       "attrs": {
        "height": 0.8,
        "width": 0.8,
        "x": 0.1,
        "y": 0.1
       },
       "content": {
        "cell": "a7f66e4e-1956-43cd-835c-ac42d4df7a27",
        "part": "whole"
       },
       "id": "c0f3f8ef-9c6e-4d1c-950c-217f823d82d6"
      }
     }
    },
    "a6e06da8-a6bb-4edb-9812-000a314c9149": {
     "id": "a6e06da8-a6bb-4edb-9812-000a314c9149",
     "prev": "2053d6bc-c23a-43bf-b306-77d79b5b8af0",
     "regions": {
      "141f7b24-3d84-4e46-8464-f6ae698e675e": {
       "attrs": {
        "height": 0.8,
        "width": 0.8,
        "x": 0.1,
        "y": 0.1
       },
       "content": {
        "cell": "9e7fed7b-2340-44a1-8654-0fb63cf7f79c",
        "part": "whole"
       },
       "id": "141f7b24-3d84-4e46-8464-f6ae698e675e"
      }
     }
    },
    "a702de8a-8fbc-41e9-809f-134fa3d10d4f": {
     "id": "a702de8a-8fbc-41e9-809f-134fa3d10d4f",
     "prev": "c68abde3-6022-446f-ba48-736943372aa7",
     "regions": {
      "a4be4acf-df2c-4982-949a-9a3aa75787f2": {
       "attrs": {
        "height": 0.8,
        "width": 0.8,
        "x": 0.1,
        "y": 0.1
       },
       "content": {
        "cell": "69852cd7-9e7e-4cab-a60a-d63d1adbe60b",
        "part": "whole"
       },
       "id": "a4be4acf-df2c-4982-949a-9a3aa75787f2"
      }
     }
    },
    "abc5c6af-33a8-4b34-a195-7c81c03c00de": {
     "id": "abc5c6af-33a8-4b34-a195-7c81c03c00de",
     "prev": "a702de8a-8fbc-41e9-809f-134fa3d10d4f",
     "regions": {
      "f742610c-1337-496c-aba7-9c89cc80fc84": {
       "attrs": {
        "height": 0.8,
        "width": 0.8,
        "x": 0.1,
        "y": 0.1
       },
       "content": {
        "cell": "b3210d49-f61a-4827-bf8e-17d3da3952b2",
        "part": "whole"
       },
       "id": "f742610c-1337-496c-aba7-9c89cc80fc84"
      }
     }
    },
    "b927605e-26d2-4c13-bffb-8bcbd48a881a": {
     "id": "b927605e-26d2-4c13-bffb-8bcbd48a881a",
     "prev": "c69ea05b-8d0e-4045-ab0a-f0e38028d674",
     "regions": {
      "22de0d3b-8546-4686-b5ba-4ec87717ca98": {
       "attrs": {
        "height": 0.8,
        "width": 0.8,
        "x": 0.1,
        "y": 0.1
       },
       "content": {
        "cell": "39aee4f8-f223-4d0f-80b5-0e671b2136cf",
        "part": "whole"
       },
       "id": "22de0d3b-8546-4686-b5ba-4ec87717ca98"
      }
     }
    },
    "c180d5e7-8e62-4261-8252-7d7776e3d67a": {
     "id": "c180d5e7-8e62-4261-8252-7d7776e3d67a",
     "prev": "933d624c-4ba7-4014-b16f-c52997b436da",
     "regions": {
      "e7e978a5-2d16-444a-9c47-1a2c6c9ec32e": {
       "attrs": {
        "height": 0.8,
        "width": 0.8,
        "x": 0.1,
        "y": 0.1
       },
       "content": {
        "cell": "71c05d3c-b16a-4ce9-aced-b3e0da8ab572",
        "part": "whole"
       },
       "id": "e7e978a5-2d16-444a-9c47-1a2c6c9ec32e"
      }
     }
    },
    "c68abde3-6022-446f-ba48-736943372aa7": {
     "id": "c68abde3-6022-446f-ba48-736943372aa7",
     "prev": "a6e06da8-a6bb-4edb-9812-000a314c9149",
     "regions": {
      "fe22b285-98af-4745-b736-8b09e2bc3971": {
       "attrs": {
        "height": 0.8,
        "width": 0.8,
        "x": 0.1,
        "y": 0.1
       },
       "content": {
        "cell": "0583d3fb-62f8-46f0-a710-0bd802b183de",
        "part": "whole"
       },
       "id": "fe22b285-98af-4745-b736-8b09e2bc3971"
      }
     }
    },
    "c69ea05b-8d0e-4045-ab0a-f0e38028d674": {
     "id": "c69ea05b-8d0e-4045-ab0a-f0e38028d674",
     "prev": "faa1e33b-39ea-4fa5-b697-c4e8c5f4db6c",
     "regions": {
      "fef1ff20-6e39-44da-9f57-6be50c95da70": {
       "attrs": {
        "height": 0.8,
        "width": 0.8,
        "x": 0.1,
        "y": 0.1
       },
       "content": {
        "cell": "d67077ae-7dbf-45aa-a512-3158ac76775e",
        "part": "whole"
       },
       "id": "fef1ff20-6e39-44da-9f57-6be50c95da70"
      }
     }
    },
    "dd8198ed-2071-4ce9-8924-5f2e4ffe766a": {
     "id": "dd8198ed-2071-4ce9-8924-5f2e4ffe766a",
     "prev": "abc5c6af-33a8-4b34-a195-7c81c03c00de",
     "regions": {
      "26265f73-282e-4bc8-bb19-4599033e1e73": {
       "attrs": {
        "height": 0.8,
        "width": 0.8,
        "x": 0.1,
        "y": 0.1
       },
       "content": {
        "cell": "dceda4aa-6ee1-4cf7-a965-a097914b169a",
        "part": "whole"
       },
       "id": "26265f73-282e-4bc8-bb19-4599033e1e73"
      }
     }
    },
    "f9682044-789b-4fb6-8904-46466f8d9232": {
     "id": "f9682044-789b-4fb6-8904-46466f8d9232",
     "prev": null,
     "regions": {
      "96beba02-d158-498b-83e7-436a129bcbfb": {
       "attrs": {
        "height": 0.8,
        "width": 0.8,
        "x": 0.1,
        "y": 0.1
       },
       "content": {
        "cell": "7c1382d1-3ea8-483f-b455-c784513f7482",
        "part": "whole"
       },
       "id": "96beba02-d158-498b-83e7-436a129bcbfb"
      }
     }
    },
    "faa1e33b-39ea-4fa5-b697-c4e8c5f4db6c": {
     "id": "faa1e33b-39ea-4fa5-b697-c4e8c5f4db6c",
     "prev": "274c5a08-2792-4aa7-a95c-f549ec2c97ba",
     "regions": {
      "8f2d38ee-715d-4ce1-9e45-819f0efe5037": {
       "attrs": {
        "height": 0.8,
        "width": 0.8,
        "x": 0.1,
        "y": 0.1
       },
       "content": {
        "cell": "e2df3af4-ca3c-467a-9723-ddffa72db4b3",
        "part": "whole"
       },
       "id": "8f2d38ee-715d-4ce1-9e45-819f0efe5037"
      }
     }
    }
   },
   "themes": {}
  },
  "toc": {
   "colors": {
    "hover_highlight": "#DAA520",
    "running_highlight": "#FF0000",
    "selected_highlight": "#FFD700"
   },
   "moveMenuLeft": true,
   "nav_menu": {
    "height": "120px",
    "width": "252px"
   },
   "navigate_menu": true,
   "number_sections": true,
   "sideBar": true,
   "threshold": 4,
   "toc_cell": true,
   "toc_position": {
    "height": "582px",
    "left": "0px",
    "right": "1168px",
    "top": "32px",
    "width": "198px"
   },
   "toc_section_display": "block",
   "toc_window_display": true,
   "widenNotebook": false
  }
 },
 "nbformat": 4,
 "nbformat_minor": 0
}
